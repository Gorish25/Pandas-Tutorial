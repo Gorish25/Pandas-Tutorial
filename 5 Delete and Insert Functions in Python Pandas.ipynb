{
 "cells": [
  {
   "cell_type": "code",
   "execution_count": 14,
   "id": "3dbcd06b",
   "metadata": {},
   "outputs": [],
   "source": [
    "import pandas as pd"
   ]
  },
  {
   "cell_type": "markdown",
   "id": "7b98930f",
   "metadata": {},
   "source": [
    "# Insert"
   ]
  },
  {
   "cell_type": "code",
   "execution_count": 20,
   "id": "76494861",
   "metadata": {},
   "outputs": [
    {
     "name": "stdout",
     "output_type": "stream",
     "text": [
      "   A   B\n",
      "0  1  10\n",
      "1  2   9\n",
      "2  3   8\n",
      "3  4   7\n",
      "4  5   6\n"
     ]
    }
   ],
   "source": [
    "var1 = pd.DataFrame({'A':[1,2,3,4,5],'B':[10,9,8,7,6]})\n",
    "print(var1)"
   ]
  },
  {
   "cell_type": "code",
   "execution_count": 21,
   "id": "1b3fd4fe",
   "metadata": {},
   "outputs": [
    {
     "name": "stdout",
     "output_type": "stream",
     "text": [
      "   A  Python   B\n",
      "0  1       1  10\n",
      "1  2       2   9\n",
      "2  3       3   8\n",
      "3  4       4   7\n",
      "4  5       5   6\n"
     ]
    }
   ],
   "source": [
    "# parameters = 1st index no, 2nd position for new data, 3rd which data\n",
    "var1.insert(1,'Python',var1['A'])\n",
    "print(var1)"
   ]
  },
  {
   "cell_type": "code",
   "execution_count": 22,
   "id": "a565c866",
   "metadata": {},
   "outputs": [
    {
     "name": "stdout",
     "output_type": "stream",
     "text": [
      "   A  Java  Python   B\n",
      "0  1    -1       1  10\n",
      "1  2    -2       2   9\n",
      "2  3    -3       3   8\n",
      "3  4    -4       4   7\n",
      "4  5    -5       5   6\n"
     ]
    }
   ],
   "source": [
    "# another example\n",
    "# in list no. of data should be equal\n",
    "var1.insert(1,'Java',[-1,-2,-3,-4,-5])\n",
    "print(var1)"
   ]
  },
  {
   "cell_type": "code",
   "execution_count": 23,
   "id": "248ac669",
   "metadata": {},
   "outputs": [
    {
     "name": "stdout",
     "output_type": "stream",
     "text": [
      "   A  Java  Python   B  duplicate\n",
      "0  1    -1       1  10        1.0\n",
      "1  2    -2       2   9        2.0\n",
      "2  3    -3       3   8        3.0\n",
      "3  4    -4       4   7        NaN\n",
      "4  5    -5       5   6        NaN\n"
     ]
    }
   ],
   "source": [
    "# copying some data of col A to new column\n",
    "var1['duplicate'] = var1['A'][:3]\n",
    "print(var1)"
   ]
  },
  {
   "cell_type": "markdown",
   "id": "59502357",
   "metadata": {},
   "source": [
    "# Delete"
   ]
  },
  {
   "cell_type": "code",
   "execution_count": 24,
   "id": "c5979404",
   "metadata": {},
   "outputs": [
    {
     "name": "stdout",
     "output_type": "stream",
     "text": [
      "   A  Java  Python   B  duplicate\n",
      "0  1    -1       1  10        1.0\n",
      "1  2    -2       2   9        2.0\n",
      "2  3    -3       3   8        3.0\n",
      "3  4    -4       4   7        NaN\n",
      "4  5    -5       5   6        NaN\n",
      "\n",
      "   A  Java   B  duplicate\n",
      "0  1    -1  10        1.0\n",
      "1  2    -2   9        2.0\n",
      "2  3    -3   8        3.0\n",
      "3  4    -4   7        NaN\n",
      "4  5    -5   6        NaN\n"
     ]
    }
   ],
   "source": [
    "# deleting col python from dataframe\n",
    "print(var1)\n",
    "deleted = var1.pop('Python')\n",
    "print()\n",
    "print(var1)"
   ]
  },
  {
   "cell_type": "code",
   "execution_count": 25,
   "id": "9bfc3c89",
   "metadata": {},
   "outputs": [
    {
     "name": "stdout",
     "output_type": "stream",
     "text": [
      "0    1\n",
      "1    2\n",
      "2    3\n",
      "3    4\n",
      "4    5\n",
      "Name: Python, dtype: int64\n"
     ]
    }
   ],
   "source": [
    "# deleted item\n",
    "print(deleted)"
   ]
  },
  {
   "cell_type": "code",
   "execution_count": 26,
   "id": "7d19c387",
   "metadata": {},
   "outputs": [
    {
     "name": "stdout",
     "output_type": "stream",
     "text": [
      "   A   B  duplicate\n",
      "0  1  10        1.0\n",
      "1  2   9        2.0\n",
      "2  3   8        3.0\n",
      "3  4   7        NaN\n",
      "4  5   6        NaN\n"
     ]
    }
   ],
   "source": [
    "# another way to delete using del keyword\n",
    "del var1['Java']\n",
    "print(var1)"
   ]
  },
  {
   "cell_type": "code",
   "execution_count": null,
   "id": "454999fb",
   "metadata": {},
   "outputs": [],
   "source": []
  }
 ],
 "metadata": {
  "kernelspec": {
   "display_name": "Python 3 (ipykernel)",
   "language": "python",
   "name": "python3"
  },
  "language_info": {
   "codemirror_mode": {
    "name": "ipython",
    "version": 3
   },
   "file_extension": ".py",
   "mimetype": "text/x-python",
   "name": "python",
   "nbconvert_exporter": "python",
   "pygments_lexer": "ipython3",
   "version": "3.9.7"
  }
 },
 "nbformat": 4,
 "nbformat_minor": 5
}
