{
 "cells": [
  {
   "cell_type": "markdown",
   "id": "3dd5cc67",
   "metadata": {},
   "source": [
    "## Data Analysis\n",
    "- Data analysis is a process of inspecting cleansing, transforming, and modelling data with the goal of discovering useful information, informing conclusions, and supporting decision-making"
   ]
  },
  {
   "cell_type": "markdown",
   "id": "60d0fca2",
   "metadata": {},
   "source": [
    "### Python Libraries for Data Analysis\n",
    "- NumPy, statsmodel, matplotlib, SciPy, scikit learn, Pandas, seaborn"
   ]
  },
  {
   "cell_type": "markdown",
   "id": "afe209ce",
   "metadata": {},
   "source": [
    "# Pandas\n",
    "- The name 'Pandas' has a reference to both 'panel data', and 'python data analysis' and was created by wes mckinney in 2008.\n",
    "- Pandas is a python library used for working with data sets.\n",
    "- It has functions for analyzing, cleaning, exploring, and manipulating data.\n",
    "- Read and write data structures and different formats: csv, txt, XML, JSON, ZIP etc."
   ]
  },
  {
   "cell_type": "markdown",
   "id": "2ff23eea",
   "metadata": {},
   "source": [
    "# Pandas Data Structures\n",
    "## Three Data Structures\n",
    "\n",
    "## Series: \n",
    "- One-dimensional labeled arrays pd.Series(data)\n",
    "\n",
    "## DataFrames:\n",
    "- Two-Dimensional data structure with columns, much like a table.\n",
    "\n",
    "## Panel:\n",
    "- A panel is a 3D container of data."
   ]
  },
  {
   "cell_type": "markdown",
   "id": "ee027c6c",
   "metadata": {},
   "source": [
    "## Importance of Pandas in Python\n",
    "- Pandas allows us to analyze big data and make conclusions based on statistical theories.\n",
    "- Pandas can clean messy data sets, and make them readable and relevent.\n",
    "- Easy handling of missing data (represented as NaN) in floating point as well as non-floating point data.\n",
    "- Size mutability: columns can be inserted and deleted from DataFrame and higher dimensional objects.\n",
    "- Data set merging and joining. Flexible reshaping and pivoting of data sets Provides time-series functionality."
   ]
  },
  {
   "cell_type": "code",
   "execution_count": null,
   "id": "2a867b95",
   "metadata": {},
   "outputs": [],
   "source": []
  }
 ],
 "metadata": {
  "kernelspec": {
   "display_name": "Python 3 (ipykernel)",
   "language": "python",
   "name": "python3"
  },
  "language_info": {
   "codemirror_mode": {
    "name": "ipython",
    "version": 3
   },
   "file_extension": ".py",
   "mimetype": "text/x-python",
   "name": "python",
   "nbconvert_exporter": "python",
   "pygments_lexer": "ipython3",
   "version": "3.9.7"
  }
 },
 "nbformat": 4,
 "nbformat_minor": 5
}
