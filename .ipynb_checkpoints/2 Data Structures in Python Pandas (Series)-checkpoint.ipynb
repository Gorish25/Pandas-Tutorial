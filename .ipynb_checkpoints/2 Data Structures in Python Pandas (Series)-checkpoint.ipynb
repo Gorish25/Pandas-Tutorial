{
 "cells": [
  {
   "cell_type": "markdown",
   "id": "cd810208",
   "metadata": {},
   "source": [
    "# Data Structure in Python Pandas\n",
    "- The Pandas provides two data structures for processing the data.\n",
    "- Series & DataFrame and Panel"
   ]
  },
  {
   "cell_type": "markdown",
   "id": "e951b076",
   "metadata": {},
   "source": [
    "## Series \n",
    "- It is defined as a one-dimensional array that is capable of storing various data types.\n",
    "- syntex\n",
    "- import pandas as pd\n",
    "- a = pd.Series()\n",
    "- print(a)"
   ]
  },
  {
   "cell_type": "code",
   "execution_count": 1,
   "id": "ae149e6e",
   "metadata": {},
   "outputs": [],
   "source": [
    "import pandas as pd"
   ]
  },
  {
   "cell_type": "code",
   "execution_count": 2,
   "id": "a3e823b6",
   "metadata": {},
   "outputs": [
    {
     "name": "stdout",
     "output_type": "stream",
     "text": [
      "0    3\n",
      "1    5\n",
      "2    6\n",
      "3    7\n",
      "4    8\n",
      "dtype: int64\n"
     ]
    }
   ],
   "source": [
    "x = [3,5,6,7,8]\n",
    "var1 = pd.Series(x)\n",
    "print(var1)"
   ]
  },
  {
   "cell_type": "code",
   "execution_count": 3,
   "id": "37646bbf",
   "metadata": {},
   "outputs": [
    {
     "name": "stdout",
     "output_type": "stream",
     "text": [
      "<class 'pandas.core.series.Series'>\n"
     ]
    }
   ],
   "source": [
    "# to know the type of series\n",
    "print(type(var1))"
   ]
  },
  {
   "cell_type": "code",
   "execution_count": 4,
   "id": "d56dc907",
   "metadata": {},
   "outputs": [
    {
     "name": "stdout",
     "output_type": "stream",
     "text": [
      "7\n"
     ]
    }
   ],
   "source": [
    "# accessing element by indexing\n",
    "print(var1[3])"
   ]
  },
  {
   "cell_type": "code",
   "execution_count": 5,
   "id": "c5805912",
   "metadata": {},
   "outputs": [
    {
     "name": "stdout",
     "output_type": "stream",
     "text": [
      "a    3\n",
      "s    4\n",
      "d    5\n",
      "f    6\n",
      "dtype: int64\n"
     ]
    }
   ],
   "source": [
    "# giving spcial indexing to elements\n",
    "var2 = [3,4,5,6]\n",
    "var3 = pd.Series(var2,index=['a','s','d','f'])\n",
    "print(var3)"
   ]
  },
  {
   "cell_type": "code",
   "execution_count": 6,
   "id": "6aa0c0bc",
   "metadata": {},
   "outputs": [
    {
     "name": "stdout",
     "output_type": "stream",
     "text": [
      "a    3.0\n",
      "s    4.0\n",
      "d    6.0\n",
      "f    8.0\n",
      "dtype: float64\n"
     ]
    }
   ],
   "source": [
    "# giving different data type while creating\n",
    "var4 = [3,4,6,8]\n",
    "var5 = pd.Series(var4,index=['a','s','d','f'],dtype='float')\n",
    "print(var5)"
   ]
  },
  {
   "cell_type": "code",
   "execution_count": 7,
   "id": "7281fd5b",
   "metadata": {},
   "outputs": [
    {
     "name": "stdout",
     "output_type": "stream",
     "text": [
      "i      2.0\n",
      "ii     5.0\n",
      "iii    9.0\n",
      "iv     6.0\n",
      "Name: Python, dtype: float64\n"
     ]
    }
   ],
   "source": [
    "# giving data a name also\n",
    "var6 = [2,5,9,6]\n",
    "var7 = pd.Series(var6,index=['i','ii','iii','iv'],dtype='float',name='Python')\n",
    "print(var7)"
   ]
  },
  {
   "cell_type": "code",
   "execution_count": 8,
   "id": "2c214ad3",
   "metadata": {},
   "outputs": [
    {
     "name": "stdout",
     "output_type": "stream",
     "text": [
      "Name    [python, c, c++, java]\n",
      "por           [11, 32, 43, 54]\n",
      "rank              [1, 4, 3, 2]\n",
      "dtype: object\n"
     ]
    }
   ],
   "source": [
    "# giving dictionary to Series\n",
    "dict1 = {'Name':['python','c','c++','java'],'por':[11,32,43,54],'rank':[1,4,3,2]}\n",
    "var8 = pd.Series(dict1)\n",
    "print(var8)"
   ]
  },
  {
   "cell_type": "code",
   "execution_count": 11,
   "id": "6a956b07",
   "metadata": {},
   "outputs": [
    {
     "name": "stdout",
     "output_type": "stream",
     "text": [
      "0    14\n",
      "dtype: int64\n",
      "\n",
      "<class 'pandas.core.series.Series'>\n"
     ]
    }
   ],
   "source": [
    "# giving series a single data\n",
    "d1 = pd.Series(14)\n",
    "print(d1)\n",
    "print()\n",
    "print(type(d1))"
   ]
  },
  {
   "cell_type": "code",
   "execution_count": 12,
   "id": "5208d46b",
   "metadata": {},
   "outputs": [
    {
     "name": "stdout",
     "output_type": "stream",
     "text": [
      "1    50\n",
      "2    50\n",
      "3    50\n",
      "4    50\n",
      "5    50\n",
      "6    50\n",
      "7    50\n",
      "8    50\n",
      "9    50\n",
      "dtype: int64\n",
      "\n",
      "<class 'pandas.core.series.Series'>\n"
     ]
    }
   ],
   "source": [
    "# giving one data to multiple indexes\n",
    "d2 = pd.Series(50,index=[1,2,3,4,5,6,7,8,9])\n",
    "print(d2)\n",
    "print()\n",
    "print(type(d2))"
   ]
  },
  {
   "cell_type": "code",
   "execution_count": 13,
   "id": "233a103a",
   "metadata": {},
   "outputs": [
    {
     "name": "stdout",
     "output_type": "stream",
     "text": [
      "1    59.0\n",
      "2    59.0\n",
      "3    59.0\n",
      "4    59.0\n",
      "5     NaN\n",
      "6     NaN\n",
      "7     NaN\n",
      "dtype: float64\n"
     ]
    }
   ],
   "source": [
    "# adding data \n",
    "d3 = pd.Series(45,index=[1,2,3,4,5,6,7])\n",
    "d4 = pd.Series(14,index=[1,2,3,4])\n",
    "print(d3+d4)"
   ]
  },
  {
   "cell_type": "code",
   "execution_count": null,
   "id": "a66bafd3",
   "metadata": {},
   "outputs": [],
   "source": []
  }
 ],
 "metadata": {
  "kernelspec": {
   "display_name": "Python 3 (ipykernel)",
   "language": "python",
   "name": "python3"
  },
  "language_info": {
   "codemirror_mode": {
    "name": "ipython",
    "version": 3
   },
   "file_extension": ".py",
   "mimetype": "text/x-python",
   "name": "python",
   "nbconvert_exporter": "python",
   "pygments_lexer": "ipython3",
   "version": "3.9.7"
  }
 },
 "nbformat": 4,
 "nbformat_minor": 5
}
