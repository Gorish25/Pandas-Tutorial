{
 "cells": [
  {
   "cell_type": "markdown",
   "id": "e0ae4f5d",
   "metadata": {},
   "source": [
    "## Arithemetic Operations"
   ]
  },
  {
   "cell_type": "code",
   "execution_count": 15,
   "id": "7a3fcf5b",
   "metadata": {},
   "outputs": [],
   "source": [
    "import pandas as pd"
   ]
  },
  {
   "cell_type": "code",
   "execution_count": 16,
   "id": "29ca593b",
   "metadata": {},
   "outputs": [
    {
     "name": "stdout",
     "output_type": "stream",
     "text": [
      "   A   B\n",
      "0  1   6\n",
      "1  2   7\n",
      "2  3   8\n",
      "3  4   9\n",
      "4  5  10\n"
     ]
    }
   ],
   "source": [
    "var1 = pd.DataFrame({\"A\":[1,2,3,4,5],\"B\":[6,7,8,9,10]})\n",
    "print(var1)"
   ]
  },
  {
   "cell_type": "code",
   "execution_count": 17,
   "id": "42bc8d94",
   "metadata": {},
   "outputs": [
    {
     "name": "stdout",
     "output_type": "stream",
     "text": [
      "   A   B   C\n",
      "0  1   6   7\n",
      "1  2   7   9\n",
      "2  3   8  11\n",
      "3  4   9  13\n",
      "4  5  10  15\n"
     ]
    }
   ],
   "source": [
    "# Sum of Col A and Col B\n",
    "var1['C']=var1['A']+var1['B']\n",
    "print(var1)"
   ]
  },
  {
   "cell_type": "code",
   "execution_count": 18,
   "id": "6c4585a1",
   "metadata": {},
   "outputs": [
    {
     "name": "stdout",
     "output_type": "stream",
     "text": [
      "   A   B   C   D\n",
      "0  1   6   7   6\n",
      "1  2   7   9   7\n",
      "2  3   8  11   8\n",
      "3  4   9  13   9\n",
      "4  5  10  15  10\n"
     ]
    }
   ],
   "source": [
    "# subtraction of Col C and Col A\n",
    "var1['D'] = var1['C']-var1['A']\n",
    "print(var1)"
   ]
  },
  {
   "cell_type": "code",
   "execution_count": 19,
   "id": "3c10f804",
   "metadata": {},
   "outputs": [
    {
     "name": "stdout",
     "output_type": "stream",
     "text": [
      "   A   B   C   D   E\n",
      "0  1   6   7   6   6\n",
      "1  2   7   9   7  14\n",
      "2  3   8  11   8  24\n",
      "3  4   9  13   9  36\n",
      "4  5  10  15  10  50\n"
     ]
    }
   ],
   "source": [
    "# multiplication of Col A and Col B\n",
    "var1['E'] = var1['A']*var1['B']\n",
    "print(var1)"
   ]
  },
  {
   "cell_type": "code",
   "execution_count": 20,
   "id": "c43b4cbe",
   "metadata": {},
   "outputs": [
    {
     "name": "stdout",
     "output_type": "stream",
     "text": [
      "   A   B   C   D   E  F\n",
      "0  1   6   7   6   6  6\n",
      "1  2   7   9   7  14  3\n",
      "2  3   8  11   8  24  2\n",
      "3  4   9  13   9  36  2\n",
      "4  5  10  15  10  50  2\n"
     ]
    }
   ],
   "source": [
    "# division of Col D and Col A\n",
    "var1['F'] = var1['D']//var1['A']\n",
    "print(var1)"
   ]
  },
  {
   "cell_type": "code",
   "execution_count": 21,
   "id": "86b74f8a",
   "metadata": {},
   "outputs": [
    {
     "name": "stdout",
     "output_type": "stream",
     "text": [
      "   A   B   C   D   E  F  Greater than 20 in Col E\n",
      "0  1   6   7   6   6  6                     False\n",
      "1  2   7   9   7  14  3                     False\n",
      "2  3   8  11   8  24  2                      True\n",
      "3  4   9  13   9  36  2                      True\n",
      "4  5  10  15  10  50  2                      True\n"
     ]
    }
   ],
   "source": [
    "# some logical operations on columns\n",
    "# ex in col E which data is greater thean 20\n",
    "var1['Greater than 20 in Col E']= var1['E']>20\n",
    "print(var1)"
   ]
  },
  {
   "cell_type": "code",
   "execution_count": null,
   "id": "5fe5f42e",
   "metadata": {},
   "outputs": [],
   "source": []
  }
 ],
 "metadata": {
  "kernelspec": {
   "display_name": "Python 3 (ipykernel)",
   "language": "python",
   "name": "python3"
  },
  "language_info": {
   "codemirror_mode": {
    "name": "ipython",
    "version": 3
   },
   "file_extension": ".py",
   "mimetype": "text/x-python",
   "name": "python",
   "nbconvert_exporter": "python",
   "pygments_lexer": "ipython3",
   "version": "3.9.7"
  }
 },
 "nbformat": 4,
 "nbformat_minor": 5
}
